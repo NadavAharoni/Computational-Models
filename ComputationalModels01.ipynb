{
  "nbformat": 4,
  "nbformat_minor": 0,
  "metadata": {
    "colab": {
      "provenance": [],
      "authorship_tag": "ABX9TyPJ5E48xBKYXddX2GAzwpOA",
      "include_colab_link": true
    },
    "kernelspec": {
      "name": "python3",
      "display_name": "Python 3"
    },
    "language_info": {
      "name": "python"
    }
  },
  "cells": [
    {
      "cell_type": "markdown",
      "metadata": {
        "id": "view-in-github",
        "colab_type": "text"
      },
      "source": [
        "<a href=\"https://colab.research.google.com/github/NadavAharoni/Computational-Models/blob/main/ComputationalModels01.ipynb\" target=\"_parent\"><img src=\"https://colab.research.google.com/assets/colab-badge.svg\" alt=\"Open In Colab\"/></a>"
      ]
    },
    {
      "cell_type": "code",
      "execution_count": null,
      "metadata": {
        "collapsed": true,
        "id": "NNN0WEkhqFuT"
      },
      "outputs": [],
      "source": [
        "%%capture\n",
        "\n",
        "!sudo apt-get install python3-dev graphviz libgraphviz-dev pkg-config\n",
        "!pip install automata-lib\n",
        "!pip install pygraphviz pydot coloraide ezsettings\n",
        "\n",
        "#!sudo apt install libcairo2-dev ffmpeg \\\n",
        "#    texlive texlive-latex-extra texlive-fonts-extra \\\n",
        "#    texlive-latex-recommended texlive-science \\\n",
        "#    tipa libpango1.0-dev\n",
        "\n",
        "!sudo apt install libcairo2-dev ffmpeg tipa libpango1.0-dev\n",
        "!pip install manim\n",
        "#pip install https://samyzaf.com/pyfasim.zip\n",
        "#pip install automata-lib[visual]"
      ]
    },
    {
      "cell_type": "code",
      "source": [
        "from automata.fa.dfa import DFA\n",
        "from google.colab import files\n",
        "\n",
        "# DFA which matches all binary strings ending in an odd number of '1's\n",
        "dfa_ends_with_odd_1s = DFA(\n",
        "    states={'q0', 'q1', 'q2'},\n",
        "    input_symbols={'0', '1'},\n",
        "    transitions={\n",
        "        'q0': {'0': 'q0', '1': 'q1'},\n",
        "        'q1': {'0': 'q0', '1': 'q2'},\n",
        "        'q2': {'0': 'q2', '1': 'q1'}\n",
        "    },\n",
        "    initial_state='q0',\n",
        "    final_states={'q1','q2'}\n",
        ")\n",
        "\n",
        "input_string = \"0011\"\n",
        "steps = dfa_ends_with_odd_1s.read_input_stepwise(input_string)\n",
        "i = 0\n",
        "for state in steps:\n",
        "  if i==0:\n",
        "    print(\"  ->\", state)\n",
        "  else:\n",
        "    print(F\"{input_string[i-1]} -> {state}\")\n",
        "  i += 1\n",
        "\n",
        "str = F\"i={i}\"\n",
        "\n",
        "dfa_ends_with_odd_1s.show_diagram()\n",
        "\n",
        "# dfa_ends_with_odd_1s.show_diagram(path=\"odd_1s.svg\")\n",
        "# files.download( \"odd_1s.svg\" )\n",
        "\n",
        "# gen = dfa_ends_with_odd_1s.iter_transitions()\n",
        "# for state in gen:\n",
        "#     print(state)"
      ],
      "metadata": {
        "colab": {
          "base_uri": "https://localhost:8080/",
          "height": 104
        },
        "id": "nNRyl30LsyVc",
        "outputId": "9922de53-07a8-4d3d-9d07-741605b1a4a1"
      },
      "execution_count": null,
      "outputs": [
        {
          "output_type": "stream",
          "name": "stdout",
          "text": [
            "  -> q0\n",
            "0 -> q0\n",
            "0 -> q0\n",
            "1 -> q1\n",
            "1 -> q2\n"
          ]
        },
        {
          "output_type": "display_data",
          "data": {
            "text/plain": [
              "<IPython.core.display.Javascript object>"
            ],
            "application/javascript": [
              "\n",
              "    async function download(id, filename, size) {\n",
              "      if (!google.colab.kernel.accessAllowed) {\n",
              "        return;\n",
              "      }\n",
              "      const div = document.createElement('div');\n",
              "      const label = document.createElement('label');\n",
              "      label.textContent = `Downloading \"${filename}\": `;\n",
              "      div.appendChild(label);\n",
              "      const progress = document.createElement('progress');\n",
              "      progress.max = size;\n",
              "      div.appendChild(progress);\n",
              "      document.body.appendChild(div);\n",
              "\n",
              "      const buffers = [];\n",
              "      let downloaded = 0;\n",
              "\n",
              "      const channel = await google.colab.kernel.comms.open(id);\n",
              "      // Send a message to notify the kernel that we're ready.\n",
              "      channel.send({})\n",
              "\n",
              "      for await (const message of channel.messages) {\n",
              "        // Send a message to notify the kernel that we're ready.\n",
              "        channel.send({})\n",
              "        if (message.buffers) {\n",
              "          for (const buffer of message.buffers) {\n",
              "            buffers.push(buffer);\n",
              "            downloaded += buffer.byteLength;\n",
              "            progress.value = downloaded;\n",
              "          }\n",
              "        }\n",
              "      }\n",
              "      const blob = new Blob(buffers, {type: 'application/binary'});\n",
              "      const a = document.createElement('a');\n",
              "      a.href = window.URL.createObjectURL(blob);\n",
              "      a.download = filename;\n",
              "      div.appendChild(a);\n",
              "      a.click();\n",
              "      div.remove();\n",
              "    }\n",
              "  "
            ]
          },
          "metadata": {}
        },
        {
          "output_type": "display_data",
          "data": {
            "text/plain": [
              "<IPython.core.display.Javascript object>"
            ],
            "application/javascript": [
              "download(\"download_a16dc837-ec04-4cd1-93f0-ec0ad997a8ba\", \"odd_1s.svg\", 4559)"
            ]
          },
          "metadata": {}
        }
      ]
    },
    {
      "cell_type": "code",
      "source": [
        "%%capture animation\n",
        "dfa_ends_with_odd_1s.animate_reading_input(\"00111\", preview=False )\n",
        "# files.download( '/content/media/videos/1080p60/_DFAAnimation.mp4' )"
      ],
      "metadata": {
        "id": "2o8S9HKykSm1"
      },
      "execution_count": null,
      "outputs": []
    },
    {
      "cell_type": "code",
      "source": [
        "from automata.fa.dfa import DFA\n",
        "\n",
        "dfa01 = DFA.from_finite_language(\n",
        "    input_symbols={'a','t', 'h','i','s','_','x'},\n",
        "    language={\"this\",\"that\"},\n",
        "    as_partial=True\n",
        ")\n",
        "\n",
        "dfa01.show_diagram()"
      ],
      "metadata": {
        "colab": {
          "base_uri": "https://localhost:8080/",
          "height": 168
        },
        "id": "lCN0UEadH3DN",
        "outputId": "6e893809-bb95-4bd9-d703-ce38ef08b79c"
      },
      "execution_count": null,
      "outputs": [
        {
          "output_type": "execute_result",
          "data": {
            "image/svg+xml": "<?xml version=\"1.0\" encoding=\"UTF-8\" standalone=\"no\"?>\n<!DOCTYPE svg PUBLIC \"-//W3C//DTD SVG 1.1//EN\"\n \"http://www.w3.org/Graphics/SVG/1.1/DTD/svg11.dtd\">\n<!-- Generated by graphviz version 2.43.0 (0)\n -->\n<!-- Pages: 1 -->\n<svg width=\"428pt\" height=\"110pt\"\n viewBox=\"0.00 0.00 427.54 109.50\" xmlns=\"http://www.w3.org/2000/svg\" xmlns:xlink=\"http://www.w3.org/1999/xlink\">\n<g id=\"graph0\" class=\"graph\" transform=\"scale(1 1) rotate(0) translate(4 105.5)\">\n<polygon fill=\"white\" stroke=\"transparent\" points=\"-4,4 -4,-105.5 423.54,-105.5 423.54,4 -4,4\"/>\n<!-- 01fc7fd3&#45;823e&#45;49f4&#45;8dd2&#45;9d79e84e3b35 -->\n<g id=\"node1\" class=\"node\">\n<title>01fc7fd3&#45;823e&#45;49f4&#45;8dd2&#45;9d79e84e3b35</title>\n<g id=\"a_node1\"><a xlink:title=\".\">\n<ellipse fill=\"black\" stroke=\"black\" cx=\"1.8\" cy=\"-51.5\" rx=\"1.8\" ry=\"1.8\"/>\n</a>\n</g>\n</g>\n<!-- λ -->\n<g id=\"node2\" class=\"node\">\n<title>λ</title>\n<ellipse fill=\"none\" stroke=\"black\" cx=\"58.6\" cy=\"-51.5\" rx=\"18\" ry=\"18\"/>\n<text text-anchor=\"middle\" x=\"58.6\" y=\"-47.8\" font-family=\"Times,serif\" font-size=\"14.00\">λ</text>\n</g>\n<!-- 01fc7fd3&#45;823e&#45;49f4&#45;8dd2&#45;9d79e84e3b35&#45;&gt;λ -->\n<g id=\"edge1\" class=\"edge\">\n<title>01fc7fd3&#45;823e&#45;49f4&#45;8dd2&#45;9d79e84e3b35&#45;&gt;λ</title>\n<g id=\"a_edge1\"><a xlink:title=\"&#45;&gt;λ\">\n<path fill=\"none\" stroke=\"black\" d=\"M3.75,-51.5C7.25,-51.5 19.84,-51.5 31.96,-51.5\"/>\n<polygon fill=\"black\" stroke=\"black\" points=\"32.08,-54.48 40.58,-51.5 32.07,-48.53 32.08,-54.48\"/>\n</a>\n</g>\n</g>\n<!-- t -->\n<g id=\"node3\" class=\"node\">\n<title>t</title>\n<ellipse fill=\"none\" stroke=\"black\" cx=\"134.6\" cy=\"-51.5\" rx=\"18\" ry=\"18\"/>\n<text text-anchor=\"middle\" x=\"134.6\" y=\"-47.8\" font-family=\"Times,serif\" font-size=\"14.00\">t</text>\n</g>\n<!-- λ&#45;&gt;t -->\n<g id=\"edge2\" class=\"edge\">\n<title>λ&#45;&gt;t</title>\n<path fill=\"none\" stroke=\"black\" d=\"M76.76,-51.5C86.01,-51.5 97.6,-51.5 107.9,-51.5\"/>\n<polygon fill=\"black\" stroke=\"black\" points=\"108.03,-54.48 116.53,-51.5 108.03,-48.53 108.03,-54.48\"/>\n<text text-anchor=\"middle\" x=\"96.6\" y=\"-55.3\" font-family=\"Times,serif\" font-size=\"14.00\">t</text>\n</g>\n<!-- th -->\n<g id=\"node4\" class=\"node\">\n<title>th</title>\n<ellipse fill=\"none\" stroke=\"black\" cx=\"213.6\" cy=\"-51.5\" rx=\"18\" ry=\"18\"/>\n<text text-anchor=\"middle\" x=\"213.6\" y=\"-47.8\" font-family=\"Times,serif\" font-size=\"14.00\">th</text>\n</g>\n<!-- t&#45;&gt;th -->\n<g id=\"edge3\" class=\"edge\">\n<title>t&#45;&gt;th</title>\n<path fill=\"none\" stroke=\"black\" d=\"M152.69,-51.5C162.76,-51.5 175.69,-51.5 186.96,-51.5\"/>\n<polygon fill=\"black\" stroke=\"black\" points=\"187.06,-54.48 195.56,-51.5 187.06,-48.53 187.06,-54.48\"/>\n<text text-anchor=\"middle\" x=\"174.1\" y=\"-55.3\" font-family=\"Times,serif\" font-size=\"14.00\">h</text>\n</g>\n<!-- thi -->\n<g id=\"node5\" class=\"node\">\n<title>thi</title>\n<ellipse fill=\"none\" stroke=\"black\" cx=\"296.05\" cy=\"-81.5\" rx=\"20\" ry=\"20\"/>\n<text text-anchor=\"middle\" x=\"296.05\" y=\"-77.8\" font-family=\"Times,serif\" font-size=\"14.00\">thi</text>\n</g>\n<!-- th&#45;&gt;thi -->\n<g id=\"edge4\" class=\"edge\">\n<title>th&#45;&gt;thi</title>\n<path fill=\"none\" stroke=\"black\" d=\"M230.88,-57.57C241.7,-61.6 256.15,-66.99 268.6,-71.64\"/>\n<polygon fill=\"black\" stroke=\"black\" points=\"267.83,-74.52 276.83,-74.71 269.91,-68.95 267.83,-74.52\"/>\n<text text-anchor=\"middle\" x=\"253.1\" y=\"-70.3\" font-family=\"Times,serif\" font-size=\"14.00\">i</text>\n</g>\n<!-- tha -->\n<g id=\"node6\" class=\"node\">\n<title>tha</title>\n<ellipse fill=\"none\" stroke=\"black\" cx=\"296.05\" cy=\"-21.5\" rx=\"21.5\" ry=\"21.5\"/>\n<text text-anchor=\"middle\" x=\"296.05\" y=\"-17.8\" font-family=\"Times,serif\" font-size=\"14.00\">tha</text>\n</g>\n<!-- th&#45;&gt;tha -->\n<g id=\"edge5\" class=\"edge\">\n<title>th&#45;&gt;tha</title>\n<path fill=\"none\" stroke=\"black\" d=\"M230.88,-45.43C241.4,-41.51 255.35,-36.3 267.56,-31.75\"/>\n<polygon fill=\"black\" stroke=\"black\" points=\"268.75,-34.48 275.67,-28.72 266.67,-28.91 268.75,-34.48\"/>\n<text text-anchor=\"middle\" x=\"253.1\" y=\"-42.3\" font-family=\"Times,serif\" font-size=\"14.00\">a</text>\n</g>\n<!-- that -->\n<g id=\"node7\" class=\"node\">\n<title>that</title>\n<ellipse fill=\"none\" stroke=\"black\" cx=\"387.54\" cy=\"-51.5\" rx=\"28\" ry=\"28\"/>\n<ellipse fill=\"none\" stroke=\"black\" cx=\"387.54\" cy=\"-51.5\" rx=\"32\" ry=\"32\"/>\n<text text-anchor=\"middle\" x=\"387.54\" y=\"-47.8\" font-family=\"Times,serif\" font-size=\"14.00\">that</text>\n</g>\n<!-- thi&#45;&gt;that -->\n<g id=\"edge6\" class=\"edge\">\n<title>thi&#45;&gt;that</title>\n<path fill=\"none\" stroke=\"black\" d=\"M315.59,-75.28C326.16,-71.74 339.73,-67.19 352.18,-63.02\"/>\n<polygon fill=\"black\" stroke=\"black\" points=\"353.45,-65.73 360.56,-60.21 351.56,-60.09 353.45,-65.73\"/>\n<text text-anchor=\"middle\" x=\"338.5\" y=\"-71.3\" font-family=\"Times,serif\" font-size=\"14.00\">s</text>\n</g>\n<!-- tha&#45;&gt;that -->\n<g id=\"edge7\" class=\"edge\">\n<title>tha&#45;&gt;that</title>\n<path fill=\"none\" stroke=\"black\" d=\"M316.91,-28.16C327.37,-31.66 340.49,-36.06 352.51,-40.09\"/>\n<polygon fill=\"black\" stroke=\"black\" points=\"351.62,-42.93 360.62,-42.81 353.5,-37.29 351.62,-42.93\"/>\n<text text-anchor=\"middle\" x=\"338.5\" y=\"-40.3\" font-family=\"Times,serif\" font-size=\"14.00\">t</text>\n</g>\n</g>\n</svg>\n",
            "text/plain": [
              "<AGraph <Swig Object of type 'Agraph_t *' at 0x7c0522caad00>>"
            ]
          },
          "metadata": {},
          "execution_count": 8
        }
      ]
    },
    {
      "cell_type": "code",
      "source": [
        "from automata.fa.nfa import NFA\n",
        "\n",
        "# NFA which matches strings beginning with \"a\", ending with \"a\", and\n",
        "# containing no consecutive \"b\"s\n",
        "nfa_starts_ends_a = NFA(\n",
        "    states={\"q0\", \"q1\", \"q2\"},\n",
        "    input_symbols={\"a\", \"b\"},\n",
        "    transitions={\n",
        "        \"q0\": {\"a\": {\"q1\"}},\n",
        "        \"q1\": {\"a\": {\"q1\"}, \"\": {\"q2\"}},\n",
        "        \"q2\": {\"b\": {\"q0\"}},\n",
        "    },\n",
        "    initial_state=\"q0\",\n",
        "    final_states={\"q1\"},\n",
        ")\n",
        "\n",
        "nfa_starts_ends_a.show_diagram(\"bb\")"
      ],
      "metadata": {
        "colab": {
          "base_uri": "https://localhost:8080/",
          "height": 186
        },
        "id": "EQTlwBXARmhz",
        "outputId": "d33adf6e-e735-4e9e-eb45-ef394d5586fa"
      },
      "execution_count": null,
      "outputs": [
        {
          "output_type": "execute_result",
          "data": {
            "image/svg+xml": "<?xml version=\"1.0\" encoding=\"UTF-8\" standalone=\"no\"?>\n<!DOCTYPE svg PUBLIC \"-//W3C//DTD SVG 1.1//EN\"\n \"http://www.w3.org/Graphics/SVG/1.1/DTD/svg11.dtd\">\n<!-- Generated by graphviz version 2.43.0 (0)\n -->\n<!-- Pages: 1 -->\n<svg width=\"260pt\" height=\"124pt\"\n viewBox=\"0.00 0.00 259.59 124.00\" xmlns=\"http://www.w3.org/2000/svg\" xmlns:xlink=\"http://www.w3.org/1999/xlink\">\n<g id=\"graph0\" class=\"graph\" transform=\"scale(1 1) rotate(0) translate(4 120)\">\n<polygon fill=\"white\" stroke=\"transparent\" points=\"-4,4 -4,-120 255.59,-120 255.59,4 -4,4\"/>\n<!-- 244856b2&#45;b280&#45;4eb5&#45;884e&#45;49b9f6e37f20 -->\n<g id=\"node1\" class=\"node\">\n<title>244856b2&#45;b280&#45;4eb5&#45;884e&#45;49b9f6e37f20</title>\n<g id=\"a_node1\"><a xlink:title=\".\">\n<ellipse fill=\"black\" stroke=\"black\" cx=\"1.8\" cy=\"-19.5\" rx=\"1.8\" ry=\"1.8\"/>\n</a>\n</g>\n</g>\n<!-- q0 -->\n<g id=\"node2\" class=\"node\">\n<title>q0</title>\n<ellipse fill=\"none\" stroke=\"black\" cx=\"60.1\" cy=\"-19.5\" rx=\"19.5\" ry=\"19.5\"/>\n<text text-anchor=\"middle\" x=\"60.1\" y=\"-15.8\" font-family=\"Times,serif\" font-size=\"14.00\">q0</text>\n</g>\n<!-- 244856b2&#45;b280&#45;4eb5&#45;884e&#45;49b9f6e37f20&#45;&gt;q0 -->\n<g id=\"edge1\" class=\"edge\">\n<title>244856b2&#45;b280&#45;4eb5&#45;884e&#45;49b9f6e37f20&#45;&gt;q0</title>\n<g id=\"a_edge1\"><a xlink:title=\"&#45;&gt;q0\">\n<path fill=\"none\" stroke=\"black\" d=\"M3.78,-19.5C7.28,-19.5 19.64,-19.5 31.78,-19.5\"/>\n<polygon fill=\"black\" stroke=\"black\" points=\"31.96,-22.48 40.46,-19.5 31.96,-16.53 31.96,-22.48\"/>\n</a>\n</g>\n</g>\n<!-- q1 -->\n<g id=\"node3\" class=\"node\">\n<title>q1</title>\n<ellipse fill=\"none\" stroke=\"black\" cx=\"146.09\" cy=\"-59.5\" rx=\"23.5\" ry=\"23.5\"/>\n<ellipse fill=\"none\" stroke=\"black\" cx=\"146.09\" cy=\"-59.5\" rx=\"27.5\" ry=\"27.5\"/>\n<text text-anchor=\"middle\" x=\"146.09\" y=\"-55.8\" font-family=\"Times,serif\" font-size=\"14.00\">q1</text>\n</g>\n<!-- q0&#45;&gt;q1 -->\n<g id=\"edge2\" class=\"edge\">\n<title>q0&#45;&gt;q1</title>\n<path fill=\"none\" stroke=\"black\" d=\"M78.1,-27.59C89.21,-32.89 104,-39.93 116.86,-46.05\"/>\n<polygon fill=\"black\" stroke=\"black\" points=\"115.61,-48.75 124.56,-49.72 118.17,-43.38 115.61,-48.75\"/>\n<text text-anchor=\"middle\" x=\"101.1\" y=\"-43.3\" font-family=\"Times,serif\" font-size=\"14.00\">a</text>\n</g>\n<!-- q1&#45;&gt;q1 -->\n<g id=\"edge3\" class=\"edge\">\n<title>q1&#45;&gt;q1</title>\n<path fill=\"none\" stroke=\"black\" d=\"M138.01,-81.7C137.13,-92 139.82,-101 146.09,-101 150.51,-101 153.15,-96.55 154.02,-90.33\"/>\n<polygon fill=\"black\" stroke=\"black\" points=\"157,-90.25 154.18,-81.7 151.05,-90.14 157,-90.25\"/>\n<text text-anchor=\"middle\" x=\"146.09\" y=\"-104.8\" font-family=\"Times,serif\" font-size=\"14.00\">a</text>\n</g>\n<!-- q2 -->\n<g id=\"node4\" class=\"node\">\n<title>q2</title>\n<ellipse fill=\"none\" stroke=\"black\" cx=\"232.09\" cy=\"-19.5\" rx=\"19.5\" ry=\"19.5\"/>\n<text text-anchor=\"middle\" x=\"232.09\" y=\"-15.8\" font-family=\"Times,serif\" font-size=\"14.00\">q2</text>\n</g>\n<!-- q1&#45;&gt;q2 -->\n<g id=\"edge4\" class=\"edge\">\n<title>q1&#45;&gt;q2</title>\n<path fill=\"none\" stroke=\"black\" d=\"M167.86,-49.61C179.46,-44.09 194,-37.16 206.21,-31.35\"/>\n<polygon fill=\"black\" stroke=\"black\" points=\"207.83,-33.87 214.23,-27.53 205.28,-28.5 207.83,-33.87\"/>\n<text text-anchor=\"middle\" x=\"191.09\" y=\"-43.3\" font-family=\"Times,serif\" font-size=\"14.00\">ε</text>\n</g>\n<!-- q2&#45;&gt;q0 -->\n<g id=\"edge5\" class=\"edge\">\n<title>q2&#45;&gt;q0</title>\n<path fill=\"none\" stroke=\"black\" d=\"M212.57,-16.84C200.39,-15.22 184.08,-13.32 169.59,-12.5 148.74,-11.32 143.45,-11.32 122.6,-12.5 111.28,-13.14 98.85,-14.44 88.15,-15.75\"/>\n<polygon fill=\"black\" stroke=\"black\" points=\"87.68,-12.81 79.62,-16.84 88.43,-18.71 87.68,-12.81\"/>\n<text text-anchor=\"middle\" x=\"146.09\" y=\"-16.3\" font-family=\"Times,serif\" font-size=\"14.00\">b</text>\n</g>\n</g>\n</svg>\n",
            "text/plain": [
              "<AGraph <Swig Object of type 'Agraph_t *' at 0x7bb56be02e80>>"
            ]
          },
          "metadata": {},
          "execution_count": 46
        }
      ]
    },
    {
      "cell_type": "code",
      "source": [
        "# NFA which matches strings beginning with \"a\", ending with \"a\", and\n",
        "# containing no consecutive \"b\"s\n",
        "nfa_starts_ends_a_2 = NFA(\n",
        "    states={\"q0\", \"q1\", \"q2\"},\n",
        "    input_symbols={\"a\", \"b\"},\n",
        "    transitions={\n",
        "        \"q0\": {\"a\": {\"q1\"}},\n",
        "        \"q1\": {\"a\": {\"q1\"}, \"b\": {\"q0\"}},\n",
        "        # \"q2\": {\"b\": {\"q0\"}},\n",
        "    },\n",
        "    initial_state=\"q0\",\n",
        "    final_states={\"q1\"},\n",
        ")\n",
        "\n",
        "nfa_starts_ends_a_2.show_diagram(\"bb\")"
      ],
      "metadata": {
        "colab": {
          "base_uri": "https://localhost:8080/",
          "height": 146
        },
        "id": "7TELsPQGW_l1",
        "outputId": "6bc563ec-d622-4d26-c2a4-4584c1b6ca06"
      },
      "execution_count": null,
      "outputs": [
        {
          "output_type": "execute_result",
          "data": {
            "image/svg+xml": "<?xml version=\"1.0\" encoding=\"UTF-8\" standalone=\"no\"?>\n<!DOCTYPE svg PUBLIC \"-//W3C//DTD SVG 1.1//EN\"\n \"http://www.w3.org/Graphics/SVG/1.1/DTD/svg11.dtd\">\n<!-- Generated by graphviz version 2.43.0 (0)\n -->\n<!-- Pages: 1 -->\n<svg width=\"217pt\" height=\"94pt\"\n viewBox=\"0.00 0.00 216.99 94.00\" xmlns=\"http://www.w3.org/2000/svg\" xmlns:xlink=\"http://www.w3.org/1999/xlink\">\n<g id=\"graph0\" class=\"graph\" transform=\"scale(1 1) rotate(0) translate(4 90)\">\n<polygon fill=\"white\" stroke=\"transparent\" points=\"-4,4 -4,-90 212.99,-90 212.99,4 -4,4\"/>\n<!-- c602daab&#45;b839&#45;47cb&#45;809d&#45;5bcb93de6846 -->\n<g id=\"node1\" class=\"node\">\n<title>c602daab&#45;b839&#45;47cb&#45;809d&#45;5bcb93de6846</title>\n<g id=\"a_node1\"><a xlink:title=\".\">\n<ellipse fill=\"black\" stroke=\"black\" cx=\"19.5\" cy=\"-27.5\" rx=\"1.8\" ry=\"1.8\"/>\n</a>\n</g>\n</g>\n<!-- q0 -->\n<g id=\"node2\" class=\"node\">\n<title>q0</title>\n<ellipse fill=\"none\" stroke=\"black\" cx=\"95.5\" cy=\"-27.5\" rx=\"19.5\" ry=\"19.5\"/>\n<text text-anchor=\"middle\" x=\"95.5\" y=\"-23.8\" font-family=\"Times,serif\" font-size=\"14.00\">q0</text>\n</g>\n<!-- c602daab&#45;b839&#45;47cb&#45;809d&#45;5bcb93de6846&#45;&gt;q0 -->\n<g id=\"edge1\" class=\"edge\">\n<title>c602daab&#45;b839&#45;47cb&#45;809d&#45;5bcb93de6846&#45;&gt;q0</title>\n<g id=\"a_edge1\"><a xlink:title=\"&#45;&gt;q0\">\n<path fill=\"none\" stroke=\"black\" d=\"M21.33,-27.5C25.88,-27.5 48.27,-27.5 67.09,-27.5\"/>\n<polygon fill=\"black\" stroke=\"black\" points=\"67.18,-30.48 75.68,-27.5 67.18,-24.53 67.18,-30.48\"/>\n</a>\n</g>\n</g>\n<!-- q1 -->\n<g id=\"node3\" class=\"node\">\n<title>q1</title>\n<ellipse fill=\"none\" stroke=\"black\" cx=\"181.49\" cy=\"-27.5\" rx=\"23.5\" ry=\"23.5\"/>\n<ellipse fill=\"none\" stroke=\"black\" cx=\"181.49\" cy=\"-27.5\" rx=\"27.5\" ry=\"27.5\"/>\n<text text-anchor=\"middle\" x=\"181.49\" y=\"-23.8\" font-family=\"Times,serif\" font-size=\"14.00\">q1</text>\n</g>\n<!-- q0&#45;&gt;q1 -->\n<g id=\"edge2\" class=\"edge\">\n<title>q0&#45;&gt;q1</title>\n<path fill=\"none\" stroke=\"black\" d=\"M115.14,-27.5C125.05,-27.5 137.51,-27.5 148.89,-27.5\"/>\n<polygon fill=\"black\" stroke=\"black\" points=\"149.21,-30.48 157.71,-27.5 149.21,-24.53 149.21,-30.48\"/>\n<text text-anchor=\"middle\" x=\"136.49\" y=\"-31.3\" font-family=\"Times,serif\" font-size=\"14.00\">a</text>\n</g>\n<!-- q1&#45;&gt;q0 -->\n<g id=\"edge3\" class=\"edge\">\n<title>q1&#45;&gt;q0</title>\n<path fill=\"none\" stroke=\"black\" d=\"M161.94,-14.23C153.32,-9.6 142.83,-6.09 132.99,-8.5 128.6,-9.58 124.14,-11.28 119.92,-13.24\"/>\n<polygon fill=\"black\" stroke=\"black\" points=\"118.38,-10.69 112.18,-17.23 121.1,-15.98 118.38,-10.69\"/>\n<text text-anchor=\"middle\" x=\"136.49\" y=\"-12.3\" font-family=\"Times,serif\" font-size=\"14.00\">b</text>\n</g>\n<!-- q1&#45;&gt;q1 -->\n<g id=\"edge4\" class=\"edge\">\n<title>q1&#45;&gt;q1</title>\n<path fill=\"none\" stroke=\"black\" d=\"M173.4,-49.7C172.52,-60 175.22,-69 181.49,-69 185.9,-69 188.54,-64.55 189.42,-58.33\"/>\n<polygon fill=\"black\" stroke=\"black\" points=\"192.4,-58.25 189.58,-49.7 186.45,-58.14 192.4,-58.25\"/>\n<text text-anchor=\"middle\" x=\"181.49\" y=\"-72.8\" font-family=\"Times,serif\" font-size=\"14.00\">a</text>\n</g>\n<!-- q2 -->\n<g id=\"node4\" class=\"node\">\n<title>q2</title>\n<ellipse fill=\"none\" stroke=\"black\" cx=\"19.5\" cy=\"-66.5\" rx=\"19.5\" ry=\"19.5\"/>\n<text text-anchor=\"middle\" x=\"19.5\" y=\"-62.8\" font-family=\"Times,serif\" font-size=\"14.00\">q2</text>\n</g>\n</g>\n</svg>\n",
            "text/plain": [
              "<AGraph <Swig Object of type 'Agraph_t *' at 0x7bb56be021c0>>"
            ]
          },
          "metadata": {},
          "execution_count": 47
        }
      ]
    },
    {
      "cell_type": "code",
      "source": [
        "dfa = DFA.from_nfa(nfa_starts_ends_a, retain_names=True, minify=False)\n",
        "dfa.show_diagram(\"abaa\") # \"bbaa\""
      ],
      "metadata": {
        "colab": {
          "base_uri": "https://localhost:8080/",
          "height": 204
        },
        "id": "XBVRvoRMThoY",
        "outputId": "8d3c9eaf-9a92-4ad9-c1f9-cec43c6a1a50"
      },
      "execution_count": null,
      "outputs": [
        {
          "output_type": "execute_result",
          "data": {
            "image/svg+xml": "<?xml version=\"1.0\" encoding=\"UTF-8\" standalone=\"no\"?>\n<!DOCTYPE svg PUBLIC \"-//W3C//DTD SVG 1.1//EN\"\n \"http://www.w3.org/Graphics/SVG/1.1/DTD/svg11.dtd\">\n<!-- Generated by graphviz version 2.43.0 (0)\n -->\n<!-- Pages: 1 -->\n<svg width=\"268pt\" height=\"137pt\"\n viewBox=\"0.00 0.00 268.04 137.24\" xmlns=\"http://www.w3.org/2000/svg\" xmlns:xlink=\"http://www.w3.org/1999/xlink\">\n<g id=\"graph0\" class=\"graph\" transform=\"scale(1 1) rotate(0) translate(4 133.24)\">\n<polygon fill=\"white\" stroke=\"transparent\" points=\"-4,4 -4,-133.24 264.04,-133.24 264.04,4 -4,4\"/>\n<!-- ebaef347&#45;9758&#45;46ed&#45;93e6&#45;4711d4f168da -->\n<g id=\"node1\" class=\"node\">\n<title>ebaef347&#45;9758&#45;46ed&#45;93e6&#45;4711d4f168da</title>\n<g id=\"a_node1\"><a xlink:title=\".\">\n<ellipse fill=\"black\" stroke=\"black\" cx=\"1.8\" cy=\"-50\" rx=\"1.8\" ry=\"1.8\"/>\n</a>\n</g>\n</g>\n<!-- {q0} -->\n<g id=\"node2\" class=\"node\">\n<title>{q0}</title>\n<ellipse fill=\"none\" stroke=\"black\" cx=\"69.2\" cy=\"-50\" rx=\"28.5\" ry=\"28.5\"/>\n<text text-anchor=\"middle\" x=\"69.2\" y=\"-46.3\" font-family=\"Times,serif\" font-size=\"14.00\">{q0}</text>\n</g>\n<!-- ebaef347&#45;9758&#45;46ed&#45;93e6&#45;4711d4f168da&#45;&gt;{q0} -->\n<g id=\"edge1\" class=\"edge\">\n<title>ebaef347&#45;9758&#45;46ed&#45;93e6&#45;4711d4f168da&#45;&gt;{q0}</title>\n<g id=\"a_edge1\"><a xlink:title=\"&#45;&gt;{q0}\">\n<path fill=\"none\" stroke=\"black\" d=\"M3.94,-50C7.55,-50 19.26,-50 31.72,-50\"/>\n<polygon fill=\"black\" stroke=\"black\" points=\"31.87,-52.98 40.37,-50 31.87,-47.03 31.87,-52.98\"/>\n</a>\n</g>\n</g>\n<!-- {q2, q1} -->\n<g id=\"node3\" class=\"node\">\n<title>{q2, q1}</title>\n<ellipse fill=\"none\" stroke=\"black\" cx=\"210.04\" cy=\"-50\" rx=\"46\" ry=\"46\"/>\n<ellipse fill=\"none\" stroke=\"black\" cx=\"210.04\" cy=\"-50\" rx=\"50\" ry=\"50\"/>\n<text text-anchor=\"middle\" x=\"210.04\" y=\"-46.3\" font-family=\"Times,serif\" font-size=\"14.00\">{q2, q1}</text>\n</g>\n<!-- {q0}&#45;&gt;{q2, q1} -->\n<g id=\"edge2\" class=\"edge\">\n<title>{q0}&#45;&gt;{q2, q1}</title>\n<path fill=\"none\" stroke=\"#bfff00\" stroke-width=\"2.5\" d=\"M95.84,-60.69C102.24,-62.89 109.18,-64.87 115.79,-66 129.08,-68.26 143.42,-67.43 156.78,-65.26\"/>\n<polygon fill=\"#bfff00\" stroke=\"#bfff00\" stroke-width=\"2.5\" points=\"157.59,-68.13 165.4,-63.66 156.5,-62.29 157.59,-68.13\"/>\n<text text-anchor=\"start\" x=\"116.29\" y=\"-71.8\" font-family=\"Times,serif\" font-size=\"14.00\">a </text>\n<text text-anchor=\"start\" x=\"126.29\" y=\"-71.8\" font-family=\"Times,serif\" font-weight=\"bold\" font-size=\"14.00\">[</text>\n<text text-anchor=\"start\" x=\"131.29\" y=\"-71.8\" font-family=\"Times,serif\" font-weight=\"bold\" font-style=\"italic\" font-size=\"14.00\">#1</text>\n</g>\n<!-- {q0}&#45;&gt;{q2, q1} -->\n<g id=\"edge3\" class=\"edge\">\n<title>{q0}&#45;&gt;{q2, q1}</title>\n<path fill=\"none\" stroke=\"#40ff00\" stroke-width=\"2.5\" d=\"M98.16,-47.87C103.98,-47.51 110.09,-47.19 115.79,-47 128.42,-46.59 142.01,-46.7 154.8,-47.06\"/>\n<polygon fill=\"#40ff00\" stroke=\"#40ff00\" stroke-width=\"2.5\" points=\"154.92,-50.04 163.51,-47.35 155.11,-44.1 154.92,-50.04\"/>\n<text text-anchor=\"start\" x=\"116.29\" y=\"-51.8\" font-family=\"Times,serif\" font-size=\"14.00\">a </text>\n<text text-anchor=\"start\" x=\"126.29\" y=\"-51.8\" font-family=\"Times,serif\" font-weight=\"bold\" font-size=\"14.00\">[</text>\n<text text-anchor=\"start\" x=\"131.29\" y=\"-51.8\" font-family=\"Times,serif\" font-weight=\"bold\" font-style=\"italic\" font-size=\"14.00\">#3</text>\n</g>\n<!-- {q2, q1}&#45;&gt;{q0} -->\n<g id=\"edge4\" class=\"edge\">\n<title>{q2, q1}&#45;&gt;{q0}</title>\n<path fill=\"none\" stroke=\"#80ff00\" stroke-width=\"2.5\" d=\"M167.76,-31.2C151.57,-26.09 132.83,-22.95 115.79,-27 111.16,-28.1 106.46,-29.76 101.93,-31.68\"/>\n<polygon fill=\"#80ff00\" stroke=\"#80ff00\" stroke-width=\"2.5\" points=\"100.45,-29.09 94,-35.38 102.96,-34.48 100.45,-29.09\"/>\n<text text-anchor=\"start\" x=\"115.79\" y=\"-31.8\" font-family=\"Times,serif\" font-size=\"14.00\">b </text>\n<text text-anchor=\"start\" x=\"126.79\" y=\"-31.8\" font-family=\"Times,serif\" font-weight=\"bold\" font-size=\"14.00\">[</text>\n<text text-anchor=\"start\" x=\"131.79\" y=\"-31.8\" font-family=\"Times,serif\" font-weight=\"bold\" font-style=\"italic\" font-size=\"14.00\">#2</text>\n</g>\n<!-- {q2, q1}&#45;&gt;{q2, q1} -->\n<g id=\"edge5\" class=\"edge\">\n<title>{q2, q1}&#45;&gt;{q2, q1}</title>\n<path fill=\"none\" stroke=\"#00ff00\" stroke-width=\"2.5\" d=\"M195.57,-94.14C196.46,-105.6 201.28,-114.24 210.04,-114.24 216.47,-114.24 220.78,-109.58 222.97,-102.57\"/>\n<polygon fill=\"#00ff00\" stroke=\"#00ff00\" stroke-width=\"2.5\" points=\"225.91,-103.04 224.52,-94.14 220.06,-101.96 225.91,-103.04\"/>\n<text text-anchor=\"start\" x=\"195.54\" y=\"-119.04\" font-family=\"Times,serif\" font-size=\"14.00\">a </text>\n<text text-anchor=\"start\" x=\"205.54\" y=\"-119.04\" font-family=\"Times,serif\" font-weight=\"bold\" font-size=\"14.00\">[</text>\n<text text-anchor=\"start\" x=\"210.54\" y=\"-119.04\" font-family=\"Times,serif\" font-weight=\"bold\" font-style=\"italic\" font-size=\"14.00\">#4</text>\n</g>\n</g>\n</svg>\n",
            "text/plain": [
              "<AGraph <Swig Object of type 'Agraph_t *' at 0x7bb56be03390>>"
            ]
          },
          "metadata": {},
          "execution_count": 49
        }
      ]
    },
    {
      "cell_type": "code",
      "source": [
        "for t in dfa.iter_transitions():\n",
        "  print(t)"
      ],
      "metadata": {
        "colab": {
          "base_uri": "https://localhost:8080/"
        },
        "id": "xMSinmYhUaqV",
        "outputId": "b8b98d3d-6080-400d-bcf2-67a32d723c83"
      },
      "execution_count": null,
      "outputs": [
        {
          "output_type": "stream",
          "name": "stdout",
          "text": [
            "(frozenset({frozenset({'q2', 'q1'})}), frozenset({frozenset({'q0'})}), 'b')\n",
            "(frozenset({frozenset({'q2', 'q1'})}), frozenset({frozenset({'q2', 'q1'})}), 'a')\n",
            "(frozenset({frozenset({'q0'})}), frozenset({frozenset({'q2', 'q1'})}), 'a')\n"
          ]
        }
      ]
    }
  ]
}